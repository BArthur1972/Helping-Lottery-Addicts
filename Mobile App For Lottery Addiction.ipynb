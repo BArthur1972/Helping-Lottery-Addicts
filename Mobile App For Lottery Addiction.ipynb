{
 "cells": [
  {
   "cell_type": "markdown",
   "metadata": {},
   "source": [
    "# Mobile App for Lottery Prediction\n",
    "## Introduction\n",
    "Lottery Addiction is a problem we all know too well. Although it starts out as a fun activity, it mostly turns out to become a habit and inevitably ends in an addiction.\n",
    "\n",
    "Just like sports betting addicts among others, spending loans and savings is common to lottery addicts. This leaves them in debts and leads them to borrow or even steal.\n",
    "\n",
    "Assuming a medical institute that aims to prevent and treat gambling addictions wants to build a dedicated mobile app to help lottery addicts better estimate their chances of winning. The institute has a team of engineers that will build the app, but they first need to create the logical core of the app and calculate probabilities.\n",
    "\n",
    "I am going to zero in on the 6/49 lottery and develop functions that wil help users answer these kind of questions:\n",
    "\n",
    "* What is the probability that I will win the big prize with just one ticket?\n",
    "* What is the probability that I will win the big prize if I play multiple tickets?\n",
    "* What is the probability that I will have at least five winning numbers on just one winning ticket?\n",
    "\n",
    "For the purpose of this project, I will consider historical data from the national 6/49 lottery game in Canada. This data set is available on Kaggle and contains data for 3,665 drawings made between 1982 and 2018."
   ]
  },
  {
   "cell_type": "markdown",
   "metadata": {},
   "source": [
    "## Core Functions\n",
    "Throughout the project, I will need to calculate repeatedly probabilities and combinations.\n",
    "\n",
    "In the 6/49 lottery, six numbers are drawn from a set of 49 numbers that range from 1 to 49. The drawing is done without replacement, which means once a number is drawn, it's not put back in the set.\n",
    "\n",
    "As a consequence, I will start by writing two functions that we'll use throughout this project:\n",
    "\n",
    "* A function that calculates factorials; and\n",
    "* A function that calculates combinations.\n"
   ]
  },
  {
   "cell_type": "markdown",
   "metadata": {},
   "source": [
    "To calculate factorials, this is the formula:"
   ]
  },
  {
   "cell_type": "markdown",
   "metadata": {},
   "source": [
    "            n! = n x (n-1)x(n-2)x...x 2 x 1"
   ]
  },
  {
   "cell_type": "code",
   "execution_count": 4,
   "metadata": {
    "collapsed": true
   },
   "outputs": [],
   "source": [
    "#Function for computing the factorial.\n",
    "def factorial(n):\n",
    "    final_product = 1\n",
    "    for i in range(n, 0, -1):\n",
    "        final_product *= i\n",
    "    return final_product"
   ]
  },
  {
   "cell_type": "markdown",
   "metadata": {},
   "source": [
    "To find the number of combinations when we're sampling without replacement and taking only k objects from a group of n objects, we can use this formula:"
   ]
  },
  {
   "cell_type": "markdown",
   "metadata": {},
   "source": [
    "            nCk = (nk) = n! / (k!/(n−k)!)"
   ]
  },
  {
   "cell_type": "code",
   "execution_count": 5,
   "metadata": {
    "collapsed": true
   },
   "outputs": [],
   "source": [
    "#Function for calculating combinations.\n",
    "def combinations(n, k):\n",
    "    numerator = factorial(n)\n",
    "    denominator = factorial(k) * factorial(n-k)\n",
    "    return numerator/denominator"
   ]
  },
  {
   "cell_type": "markdown",
   "metadata": {},
   "source": [
    "## Probability of Winning with one-ticket\n",
    "One of the main questions that the app is supposed to help answer is: What is the probability that I will win the big prize with just one ticket?\n",
    "\n",
    "Keeping in mind that in the 6/49 lottery, a player chooses 6 out of 49 numbers for a single ticket.\n",
    "\n",
    "What I have to do next is to write a function that calculates the probability that a user will win the big prize for any ticket.\n",
    "\n",
    "According to the engineering team, the following details should be noted.\n",
    "\n",
    "* Inside the app, the user inputs six different numbers from 1 to 49.\n",
    "* Under the hood, the six numbers will come as a Python list, which will serve as the single input to our function.\n",
    "* The probability value must be printed in a friendly way — in a way that people without any probability training are able to understand."
   ]
  },
  {
   "cell_type": "code",
   "execution_count": 6,
   "metadata": {},
   "outputs": [],
   "source": [
    "#Function for finding the probability of wining with one ticket.\n",
    "def one_ticket_probability(six_numbers):\n",
    "    no_combinations = combinations(49, 6)\n",
    "    probability_one_ticket = 1/no_combinations\n",
    "    probability = probability_one_ticket * 100\n",
    "    return print('''You have a {:.7f}% chance of winning the big prize with one ticket when you use the numbers {}!\n",
    "This means you have 1 in {:,} chances of winning the lottery.'''.format(probability, six_numbers, int(no_combinations)))"
   ]
  },
  {
   "cell_type": "markdown",
   "metadata": {},
   "source": [
    "We now test the function on two different outputs."
   ]
  },
  {
   "cell_type": "code",
   "execution_count": 7,
   "metadata": {},
   "outputs": [
    {
     "name": "stdout",
     "output_type": "stream",
     "text": [
      "You have a 0.0000072% chance of winning the big prize with one ticket when you use the numbers [1, 2, 43, 13, 5, 6]!\n",
      "This means you have 1 in 13,983,816 chances of winning the lottery.\n"
     ]
    }
   ],
   "source": [
    "one_ticket_probability([1,2,43,13,5,6])"
   ]
  },
  {
   "cell_type": "code",
   "execution_count": 8,
   "metadata": {},
   "outputs": [
    {
     "name": "stdout",
     "output_type": "stream",
     "text": [
      "You have a 0.0000072% chance of winning the big prize with one ticket when you use the numbers [12, 41, 33, 21, 7, 9]!\n",
      "This means you have 1 in 13,983,816 chances of winning the lottery.\n"
     ]
    }
   ],
   "source": [
    "one_ticket_probability([12,41,33,21,7,9])"
   ]
  },
  {
   "cell_type": "markdown",
   "metadata": {},
   "source": [
    "## Historical Data Check for Canada Lottery\n",
    "\n",
    "Here we will add a feature to compare their tickets against the historical lottery data and determine whether they would have ever won by now.\n",
    "\n",
    "This dataset is available in Kaggle\n",
    "\n",
    "Let's scrutinize the data..."
   ]
  },
  {
   "cell_type": "code",
   "execution_count": 19,
   "metadata": {},
   "outputs": [
    {
     "name": "stdout",
     "output_type": "stream",
     "text": [
      "The dataset has 3665 rows and 11 columns.\n"
     ]
    }
   ],
   "source": [
    "#Importing the dataset and saving it as a pandas DataFrame\n",
    "import pandas as pd\n",
    "lottery_canada = pd.read_csv(\"649.csv\")\n",
    "\n",
    "#Printing the number of rows and columns\n",
    "shape = lottery_canada.shape\n",
    "print(\"The dataset has {} rows and {} columns.\".format(shape[0],shape[1]))"
   ]
  },
  {
   "cell_type": "code",
   "execution_count": 20,
   "metadata": {},
   "outputs": [
    {
     "data": {
      "text/html": [
       "<div>\n",
       "<style scoped>\n",
       "    .dataframe tbody tr th:only-of-type {\n",
       "        vertical-align: middle;\n",
       "    }\n",
       "\n",
       "    .dataframe tbody tr th {\n",
       "        vertical-align: top;\n",
       "    }\n",
       "\n",
       "    .dataframe thead th {\n",
       "        text-align: right;\n",
       "    }\n",
       "</style>\n",
       "<table border=\"1\" class=\"dataframe\">\n",
       "  <thead>\n",
       "    <tr style=\"text-align: right;\">\n",
       "      <th></th>\n",
       "      <th>PRODUCT</th>\n",
       "      <th>DRAW NUMBER</th>\n",
       "      <th>SEQUENCE NUMBER</th>\n",
       "      <th>DRAW DATE</th>\n",
       "      <th>NUMBER DRAWN 1</th>\n",
       "      <th>NUMBER DRAWN 2</th>\n",
       "      <th>NUMBER DRAWN 3</th>\n",
       "      <th>NUMBER DRAWN 4</th>\n",
       "      <th>NUMBER DRAWN 5</th>\n",
       "      <th>NUMBER DRAWN 6</th>\n",
       "      <th>BONUS NUMBER</th>\n",
       "    </tr>\n",
       "  </thead>\n",
       "  <tbody>\n",
       "    <tr>\n",
       "      <th>0</th>\n",
       "      <td>649</td>\n",
       "      <td>1</td>\n",
       "      <td>0</td>\n",
       "      <td>6/12/1982</td>\n",
       "      <td>3</td>\n",
       "      <td>11</td>\n",
       "      <td>12</td>\n",
       "      <td>14</td>\n",
       "      <td>41</td>\n",
       "      <td>43</td>\n",
       "      <td>13</td>\n",
       "    </tr>\n",
       "    <tr>\n",
       "      <th>1</th>\n",
       "      <td>649</td>\n",
       "      <td>2</td>\n",
       "      <td>0</td>\n",
       "      <td>6/19/1982</td>\n",
       "      <td>8</td>\n",
       "      <td>33</td>\n",
       "      <td>36</td>\n",
       "      <td>37</td>\n",
       "      <td>39</td>\n",
       "      <td>41</td>\n",
       "      <td>9</td>\n",
       "    </tr>\n",
       "    <tr>\n",
       "      <th>2</th>\n",
       "      <td>649</td>\n",
       "      <td>3</td>\n",
       "      <td>0</td>\n",
       "      <td>6/26/1982</td>\n",
       "      <td>1</td>\n",
       "      <td>6</td>\n",
       "      <td>23</td>\n",
       "      <td>24</td>\n",
       "      <td>27</td>\n",
       "      <td>39</td>\n",
       "      <td>34</td>\n",
       "    </tr>\n",
       "  </tbody>\n",
       "</table>\n",
       "</div>"
      ],
      "text/plain": [
       "   PRODUCT  DRAW NUMBER  SEQUENCE NUMBER  DRAW DATE  NUMBER DRAWN 1  \\\n",
       "0      649            1                0  6/12/1982               3   \n",
       "1      649            2                0  6/19/1982               8   \n",
       "2      649            3                0  6/26/1982               1   \n",
       "\n",
       "   NUMBER DRAWN 2  NUMBER DRAWN 3  NUMBER DRAWN 4  NUMBER DRAWN 5  \\\n",
       "0              11              12              14              41   \n",
       "1              33              36              37              39   \n",
       "2               6              23              24              27   \n",
       "\n",
       "   NUMBER DRAWN 6  BONUS NUMBER  \n",
       "0              43            13  \n",
       "1              41             9  \n",
       "2              39            34  "
      ]
     },
     "execution_count": 20,
     "metadata": {},
     "output_type": "execute_result"
    }
   ],
   "source": [
    "#Printing the first three rows\n",
    "lottery_canada.head(3)"
   ]
  },
  {
   "cell_type": "code",
   "execution_count": 21,
   "metadata": {},
   "outputs": [
    {
     "data": {
      "text/html": [
       "<div>\n",
       "<style scoped>\n",
       "    .dataframe tbody tr th:only-of-type {\n",
       "        vertical-align: middle;\n",
       "    }\n",
       "\n",
       "    .dataframe tbody tr th {\n",
       "        vertical-align: top;\n",
       "    }\n",
       "\n",
       "    .dataframe thead th {\n",
       "        text-align: right;\n",
       "    }\n",
       "</style>\n",
       "<table border=\"1\" class=\"dataframe\">\n",
       "  <thead>\n",
       "    <tr style=\"text-align: right;\">\n",
       "      <th></th>\n",
       "      <th>PRODUCT</th>\n",
       "      <th>DRAW NUMBER</th>\n",
       "      <th>SEQUENCE NUMBER</th>\n",
       "      <th>DRAW DATE</th>\n",
       "      <th>NUMBER DRAWN 1</th>\n",
       "      <th>NUMBER DRAWN 2</th>\n",
       "      <th>NUMBER DRAWN 3</th>\n",
       "      <th>NUMBER DRAWN 4</th>\n",
       "      <th>NUMBER DRAWN 5</th>\n",
       "      <th>NUMBER DRAWN 6</th>\n",
       "      <th>BONUS NUMBER</th>\n",
       "    </tr>\n",
       "  </thead>\n",
       "  <tbody>\n",
       "    <tr>\n",
       "      <th>3662</th>\n",
       "      <td>649</td>\n",
       "      <td>3589</td>\n",
       "      <td>0</td>\n",
       "      <td>6/13/2018</td>\n",
       "      <td>6</td>\n",
       "      <td>22</td>\n",
       "      <td>24</td>\n",
       "      <td>31</td>\n",
       "      <td>32</td>\n",
       "      <td>34</td>\n",
       "      <td>16</td>\n",
       "    </tr>\n",
       "    <tr>\n",
       "      <th>3663</th>\n",
       "      <td>649</td>\n",
       "      <td>3590</td>\n",
       "      <td>0</td>\n",
       "      <td>6/16/2018</td>\n",
       "      <td>2</td>\n",
       "      <td>15</td>\n",
       "      <td>21</td>\n",
       "      <td>31</td>\n",
       "      <td>38</td>\n",
       "      <td>49</td>\n",
       "      <td>8</td>\n",
       "    </tr>\n",
       "    <tr>\n",
       "      <th>3664</th>\n",
       "      <td>649</td>\n",
       "      <td>3591</td>\n",
       "      <td>0</td>\n",
       "      <td>6/20/2018</td>\n",
       "      <td>14</td>\n",
       "      <td>24</td>\n",
       "      <td>31</td>\n",
       "      <td>35</td>\n",
       "      <td>37</td>\n",
       "      <td>48</td>\n",
       "      <td>17</td>\n",
       "    </tr>\n",
       "  </tbody>\n",
       "</table>\n",
       "</div>"
      ],
      "text/plain": [
       "      PRODUCT  DRAW NUMBER  SEQUENCE NUMBER  DRAW DATE  NUMBER DRAWN 1  \\\n",
       "3662      649         3589                0  6/13/2018               6   \n",
       "3663      649         3590                0  6/16/2018               2   \n",
       "3664      649         3591                0  6/20/2018              14   \n",
       "\n",
       "      NUMBER DRAWN 2  NUMBER DRAWN 3  NUMBER DRAWN 4  NUMBER DRAWN 5  \\\n",
       "3662              22              24              31              32   \n",
       "3663              15              21              31              38   \n",
       "3664              24              31              35              37   \n",
       "\n",
       "      NUMBER DRAWN 6  BONUS NUMBER  \n",
       "3662              34            16  \n",
       "3663              49             8  \n",
       "3664              48            17  "
      ]
     },
     "execution_count": 21,
     "metadata": {},
     "output_type": "execute_result"
    }
   ],
   "source": [
    "#Printing the last three rows\n",
    "lottery_canada.tail(3)"
   ]
  },
  {
   "cell_type": "markdown",
   "metadata": {},
   "source": [
    "The data set contains the historcial data for 3,665 drawings, dating from 1982 to 2018. We can find the six numbers drawn in the following six columns:\n",
    "\n",
    "* NUMBER DRAWN 1\n",
    "* NUMBER DRAWN 2\n",
    "* NUMBER DRAWN 3\n",
    "* NUMBER DRAWN 4\n",
    "* NUMBER DRAWN 5\n",
    "* NUMBER DRAWN 6"
   ]
  },
  {
   "cell_type": "markdown",
   "metadata": {},
   "source": [
    "## Function for Historical Data Check\n",
    "\n",
    "We are now going to write a function that helps users compare their ticket with the historical data from the Canada lottery.\n",
    "\n",
    "Here are a few things that we will consider when writing the function:\n",
    "\n",
    "* To use the lottery app, the user will input 6 different numbers from 1 to 49.\n",
    "* The 6 numbers will be presented as a Python list under the hood and will serve as the input to our function.\n",
    "* The function will print:\n",
    " - the frequency of the selected combination in the Canada data set\n",
    " - the probability of winning the big prize with the selected combination in the next drawing.\n"
   ]
  },
  {
   "cell_type": "code",
   "execution_count": 46,
   "metadata": {},
   "outputs": [
    {
     "data": {
      "text/plain": [
       "0    {3, 41, 11, 12, 43, 14}\n",
       "1    {33, 36, 37, 39, 8, 41}\n",
       "2     {1, 6, 39, 23, 24, 27}\n",
       "3     {3, 9, 10, 43, 13, 20}\n",
       "4    {34, 5, 14, 47, 21, 31}\n",
       "dtype: object"
      ]
     },
     "execution_count": 46,
     "metadata": {},
     "output_type": "execute_result"
    }
   ],
   "source": [
    "#Function for extracting winning numbers.\n",
    "def extract_numbers(row):\n",
    "    row = row[4:10]\n",
    "    row = set(row.values)\n",
    "    return row\n",
    "\n",
    "\n",
    "# Using extract_numbers function to extract all winning numbers.\n",
    "won_lottery = lottery_canada.apply(extract_numbers,axis = 1)\n",
    "    \n",
    "won_lottery.head()"
   ]
  },
  {
   "cell_type": "code",
   "execution_count": 45,
   "metadata": {
    "collapsed": true
   },
   "outputs": [],
   "source": [
    "def check_historical_occurence(user_list, user_series):\n",
    "    user_numbers_set = set(user_list)\n",
    "    check_occurrence = user_series == user_numbers_set\n",
    "    n_occurrences = sum(check_occurrence)\n",
    "    \n",
    "    if n_occurrences == 0:\n",
    "        print('The combination {} never occured. The chances of drawing the combination {} is 0.00001% which implies 1 in 13,983,816 chances to win'.format(user_list, user_list))\n",
    "        \n",
    "    else:\n",
    "        print('This combination {} has occured {} times. Chances of winning the big prize using the combination {} is 0.00001% which is 1 in 13,983,816 chances to win'.format(user_list, n_occurrences, user_list))"
   ]
  },
  {
   "cell_type": "code",
   "execution_count": 49,
   "metadata": {},
   "outputs": [
    {
     "name": "stdout",
     "output_type": "stream",
     "text": [
      "The combination [5, 20, 14, 23, 15, 44] never occured. The chances of drawing combination [5, 20, 14, 23, 15, 44] are 0.00001% which is 1 in 13,983,816 chances to win\n"
     ]
    }
   ],
   "source": [
    "#testing the function\n",
    "check_historical_occurence([5,20,14,23,15,44],won_lottery)"
   ]
  },
  {
   "cell_type": "code",
   "execution_count": 50,
   "metadata": {},
   "outputs": [
    {
     "name": "stdout",
     "output_type": "stream",
     "text": [
      "The number of times combination [3, 41, 43, 12, 11, 14] has occured is 1. Chances to win the big prize using the combination [3, 41, 43, 12, 11, 14] are 0.00001% which is 1 in 13,983,816 chances to win\n"
     ]
    }
   ],
   "source": [
    "# Test for numbers that won the lottery\n",
    "check_historical_occurence([3, 41, 43, 12, 11, 14], won_lottery)"
   ]
  },
  {
   "cell_type": "markdown",
   "metadata": {},
   "source": [
    "The essense of this is to check if the numbers had occured in the past in order to know if there are chances of it occuring in the future.\n",
    "\n",
    "* For instances which had occured in the past, we have slender chances of getting them in the future.\n",
    "* For instances which will never occur, there are chances that they may occur in future."
   ]
  },
  {
   "cell_type": "markdown",
   "metadata": {},
   "source": [
    "Lottery addicts mostly play more than one ticket on a single drawing, assuming that this might increase their chances of winning significantly. The purpose of this is to help them better estimate their chances of winning. Next, is a function that will allow the users to calculate the chances of winning for any number of different tickets.\n",
    "\n",
    "Here are a few important details we will be considering when we write the function:\n",
    "\n",
    "* Users will input the number of different tickets they will like to play without indicating the combinations they want to play.\n",
    "* The function will receive integers ranging from 1 to 13,983,816 as input.\n",
    "* The function should print a personalized message about the chances of wining the big prize based on the number of different tickets inputted."
   ]
  },
  {
   "cell_type": "markdown",
   "metadata": {},
   "source": [
    "## Multi - ticket Probability"
   ]
  },
  {
   "cell_type": "code",
   "execution_count": 58,
   "metadata": {
    "collapsed": true
   },
   "outputs": [],
   "source": [
    "#Function for finding the probability of using multiple tickets.\n",
    "def multi_ticket_probability(no_of_tickets):\n",
    "    total_combinations = combinations(49,6)\n",
    "    probability = (1 /total_combinations) * no_of_tickets\n",
    "    \n",
    "    return \"If you purchase {:,} tickets, you have {:%} chance of winning the lottery.\".format(no_of_tickets, probability)"
   ]
  },
  {
   "cell_type": "code",
   "execution_count": 72,
   "metadata": {},
   "outputs": [
    {
     "name": "stdout",
     "output_type": "stream",
     "text": [
      "If you purchase 1 tickets, you have 0.000007% chance of winning the lottery.\n",
      "--------------------------\n",
      "If you purchase 10 tickets, you have 0.000072% chance of winning the lottery.\n",
      "--------------------------\n",
      "If you purchase 100 tickets, you have 0.000715% chance of winning the lottery.\n",
      "--------------------------\n",
      "If you purchase 10,000 tickets, you have 0.071511% chance of winning the lottery.\n",
      "--------------------------\n",
      "If you purchase 1,000,000 tickets, you have 7.151124% chance of winning the lottery.\n",
      "--------------------------\n",
      "If you purchase 6,991,908 tickets, you have 50.000000% chance of winning the lottery.\n",
      "--------------------------\n",
      "If you purchase 13,983,816 tickets, you have 100.000000% chance of winning the lottery.\n",
      "--------------------------\n"
     ]
    }
   ],
   "source": [
    "# Testing the function using the following inputs\n",
    "\n",
    "test = [1, 10, 100, 10000, 1000000, 6991908, 13983816]\n",
    "\n",
    "for x in test:\n",
    "    print(multi_ticket_probability(x))\n",
    "    print('--------------------------') # output delimiter"
   ]
  },
  {
   "cell_type": "markdown",
   "metadata": {},
   "source": [
    "The reason for doing this is to check the actual chances of winning the lottery when the number of tickets are defined. Because the more tickets you have, the higher your chance."
   ]
  },
  {
   "cell_type": "markdown",
   "metadata": {},
   "source": [
    "## Probability of winning Smaller prizes\n",
    "In 6/49 lotteries, there are smaller prizes if a player's ticket match two, three, four, or five of the six numbers drawn. Consequently, the users might be interested in knowing the probability of having two, three, four, or five winning numbers.\n",
    "\n",
    "These are details that should be noted:\n",
    "* Inside the app, the user inputs:\n",
    "  - six different numbers from 1 to 49; and\n",
    "  - an integer between 2 and 5 that represents the number of winning numbers expected\n",
    "* The function prints information about the probability of having the inputted number of winning numbers.\n"
   ]
  },
  {
   "cell_type": "code",
   "execution_count": 69,
   "metadata": {
    "collapsed": true
   },
   "outputs": [],
   "source": [
    "#Function for calculating the probabilities of having exactly two, three, four, or five winning numbers.\n",
    "def probability_less_6(n):\n",
    "    ticket_combination = combinations(6,n)\n",
    "    combination_remaining = combinations(43,6-n)\n",
    "    winning_outcomes = ticket_combination*combination_remaining\n",
    "    \n",
    "    total_no_outcomes = combinations(49,6)\n",
    "    \n",
    "    probability = winning_outcomes/total_no_outcomes\n",
    "    combinations_simplified = round(total_no_outcomes/winning_outcomes) \n",
    "    \n",
    "    print(\"You have {:%} probability of getting exactly {} winning numbers\".format(probability,n))\n",
    "    print(\"In other words, you have a 1 in {:,} chances to win.\".format(combinations_simplified))"
   ]
  },
  {
   "cell_type": "code",
   "execution_count": 71,
   "metadata": {},
   "outputs": [
    {
     "name": "stdout",
     "output_type": "stream",
     "text": [
      "You have 13.237803% probability of getting exactly 2 winning numbers\n",
      "In other words, you have a 1 in 8 chances to win.\n",
      "None\n",
      "--------------------------\n",
      "You have 1.765040% probability of getting exactly 3 winning numbers\n",
      "In other words, you have a 1 in 57 chances to win.\n",
      "None\n",
      "--------------------------\n",
      "You have 0.096862% probability of getting exactly 4 winning numbers\n",
      "In other words, you have a 1 in 1,032 chances to win.\n",
      "None\n",
      "--------------------------\n",
      "You have 0.001845% probability of getting exactly 5 winning numbers\n",
      "In other words, you have a 1 in 54,201 chances to win.\n",
      "None\n",
      "--------------------------\n"
     ]
    }
   ],
   "source": [
    "# Testing the function probability_less_6\n",
    "test_case = [2,3,4,5]\n",
    "\n",
    "for number in test_case:\n",
    "    print(probability_less_6(number))\n",
    "    print('--------------------------')"
   ]
  },
  {
   "cell_type": "markdown",
   "metadata": {},
   "source": [
    "The implication of this function is as follows:\n",
    "\n",
    "* Depending on the value of the integer between 2 and 5 it print the chances of winning\n",
    "\n",
    "* The lesser the value of winning numbers, the greater the chances of winning\n",
    "\n"
   ]
  },
  {
   "cell_type": "markdown",
   "metadata": {},
   "source": [
    "Let's make some changes to the probability_less_6() function to calculate the probability of having at least 2, 3, 4, or 5 winning numbers.\n",
    "\n",
    "For every entered number n, the new function will calculate the sum of the number of winning outcomes for having exactly n+1, n+2,...,6 winning numbers.\n",
    "\n",
    "For instance, the number of successful outcomes for having at least 3 winning numbers will be the sum of:\n",
    "\n",
    "* The number of winning outcomes for having exactly 3 winning numbers.\n",
    "* The number of winning outcomes for having exactly 4 winning numbers.\n",
    "* The number of winning outcomes for having exactly 5 winning numbers.\n",
    "* The number of winning outcomes for having exactly 6 winning numbers."
   ]
  },
  {
   "cell_type": "code",
   "execution_count": 73,
   "metadata": {
    "collapsed": true
   },
   "outputs": [],
   "source": [
    "#Function for calculating the probability of having at least 2, 3, 4, or 5 winning numbers.\n",
    "def probability_at_least(n):\n",
    "    tot_successful_outcomes = 0\n",
    "    for x in range(n,7):\n",
    "        number_of_combinations = combinations(6,x)\n",
    "        number_of_combinations_left = combinations(43, 6-x)\n",
    "        successful_outcomes = number_of_combinations * number_of_combinations_left\n",
    "        tot_successful_outcomes = tot_successful_outcomes + successful_outcomes\n",
    "    \n",
    "    tot_possible_outcomes = combinations (49, 6)\n",
    "    \n",
    "    probability = tot_successful_outcomes / tot_possible_outcomes * 100\n",
    "    combination_rounded = round(tot_possible_outcomes/tot_successful_outcomes)\n",
    "    print('''You have a {:.7f}% chance of having at least {} winning numbers with this ticket.\n",
    "This means you have 1 in {} chances of winning'''.format(probability, n, combination_rounded))"
   ]
  },
  {
   "cell_type": "markdown",
   "metadata": {},
   "source": [
    "Now I will test the probability_at_least() function with all 4 possible inputs..."
   ]
  },
  {
   "cell_type": "code",
   "execution_count": 74,
   "metadata": {},
   "outputs": [
    {
     "name": "stdout",
     "output_type": "stream",
     "text": [
      "You have a 15.1015574% chance of having at least 2 winning numbers with this ticket.\n",
      "This means you have 1 in 7 chances of winning\n",
      "-------------------------\n",
      "You have a 1.8637545% chance of having at least 3 winning numbers with this ticket.\n",
      "This means you have 1 in 54 chances of winning\n",
      "-------------------------\n",
      "You have a 0.0987141% chance of having at least 4 winning numbers with this ticket.\n",
      "This means you have 1 in 1013 chances of winning\n",
      "-------------------------\n",
      "You have a 0.0018521% chance of having at least 5 winning numbers with this ticket.\n",
      "This means you have 1 in 53992 chances of winning\n",
      "-------------------------\n"
     ]
    }
   ],
   "source": [
    "for winning_numbers in [2,3,4,5]:\n",
    "    probability_at_least(winning_numbers)\n",
    "    print(\"-------------------------\")"
   ]
  },
  {
   "cell_type": "markdown",
   "metadata": {},
   "source": [
    "## Conclusion\n",
    "\n",
    "Conclusion\n",
    "\n",
    "I began this project with the goal to write the logic for an app that provides lottery addicts with better estimates of their chances of winning the lottery.\n",
    "\n",
    "\n",
    "To achieve this, I developed the following functions:\n",
    "\n",
    "* one_ticket_probability() — calculates the probability of winning the lottery with only one ticket.\n",
    "* check_historical_occurrence() — checks if a particular combination occurred in the Canada lottery data set.\n",
    "* multi_ticket_probability() — calculates the probability of winning the lottery with any number of tickets between 1 and 13,983,816.\n",
    "* probability_less_6() — calculates the probability of having exactly two, three, four or five winning numbers to win smaller prizes.\n",
    "* probability_at_least() - calculates the probability of having at least two, three, four or five winning numbers to win smaller prizes.\n",
    "\n",
    "\n",
    "\n",
    "Here are the questions we started with and the answers we got:\n",
    "\n",
    "* What is the probability that I will win the big prize with just one ticket?\n",
    " - From the analysis, you are over 400,000 times more likely to become wealthy from making investments or running a business than you are to winning the lottery with a single ticket.\n",
    "\n",
    "* What is the probability that I will win the big prize if I play multiple tickets?\n",
    " - The more tickets you have, the higher your chances of winning the lottery,but the chance only increases largely with a significant amount of tickets; which will cost you a lot of money.\n",
    "\n",
    "\n",
    "\n",
    "* Given that a combination costs $3:\n",
    " - 3 million dollars worth of tickets will only give you a 7.2 % chance.\n",
    " - You will need about 20 million dollars worth of tickets to get a 50% chance at winning.\n",
    "\n",
    "\n",
    "\n",
    "* What is the probability that I will win smaller prizes?\n",
    " - The probability of winning smaller prizes is relatively higher with a smaller number of expected winning numbers. You have a better chance of getting exactly 2 winning numbers (13.238%) than getting exactly 5 winning numbers (0.002%).\n",
    "\n",
    "\n",
    "\n",
    "* What is the probability that I will have at least five winning numbers on just one winning ticket?\n",
    " - You have 1 in 53,992 chances of having at least 5 winning numbers on a ticket. This means you are 5 times more likely to win an Oscar award than you are to have at least 5 winning numbers on a 6/49 lottery ticket. So, probably enrolling in acting classes may be a better investment than buying lottery tickets.\n",
    "\n"
   ]
  }
 ],
 "metadata": {
  "kernelspec": {
   "display_name": "Python 3",
   "language": "python",
   "name": "python3"
  },
  "language_info": {
   "codemirror_mode": {
    "name": "ipython",
    "version": 3
   },
   "file_extension": ".py",
   "mimetype": "text/x-python",
   "name": "python",
   "nbconvert_exporter": "python",
   "pygments_lexer": "ipython3",
   "version": "3.8.5"
  }
 },
 "nbformat": 4,
 "nbformat_minor": 2
}
